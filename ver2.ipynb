{
 "cells": [
  {
   "cell_type": "code",
   "execution_count": 26,
   "metadata": {},
   "outputs": [],
   "source": [
    "import torch\n",
    "from transformers import BertForMaskedLM,BertJapaneseTokenizer"
   ]
  },
  {
   "cell_type": "code",
   "execution_count": 27,
   "metadata": {},
   "outputs": [
    {
     "data": {
      "application/vnd.jupyter.widget-view+json": {
       "model_id": "a45432a4c323493fafd3a5ac8cdd4cc8",
       "version_major": 2,
       "version_minor": 0
      },
      "text/plain": [
       "HBox(children=(FloatProgress(value=0.0, description='Downloading', max=433.0, style=ProgressStyle(description_…"
      ]
     },
     "metadata": {},
     "output_type": "display_data"
    },
    {
     "name": "stdout",
     "output_type": "stream",
     "text": [
      "\n"
     ]
    },
    {
     "data": {
      "application/vnd.jupyter.widget-view+json": {
       "model_id": "1aade4394b4748fea419b53490c901ba",
       "version_major": 2,
       "version_minor": 0
      },
      "text/plain": [
       "HBox(children=(FloatProgress(value=0.0, description='Downloading', max=445021143.0, style=ProgressStyle(descri…"
      ]
     },
     "metadata": {},
     "output_type": "display_data"
    },
    {
     "name": "stdout",
     "output_type": "stream",
     "text": [
      "\n"
     ]
    }
   ],
   "source": [
    "tokenizer = BertJapaneseTokenizer.from_pretrained('bert-base-japanese')\n",
    "model = BertForMaskedLM.from_pretrained('bert-base-japanese')"
   ]
  },
  {
   "cell_type": "code",
   "execution_count": 43,
   "metadata": {},
   "outputs": [],
   "source": [
    "text = '株価は一般に、株式市場が開いている間は、様々なものごとの影響を受けて変動する。'\n",
    "tokens = tokenizer.tokenize(text)"
   ]
  },
  {
   "cell_type": "code",
   "execution_count": 44,
   "metadata": {},
   "outputs": [
    {
     "name": "stdout",
     "output_type": "stream",
     "text": [
      "0 株価\n",
      "1 は\n",
      "2 一般\n",
      "3 に\n",
      "4 、\n",
      "5 株式\n",
      "6 市場\n",
      "7 が\n",
      "8 開い\n",
      "9 て\n",
      "10 いる\n",
      "11 間\n",
      "12 は\n",
      "13 、\n",
      "14 様々\n",
      "15 な\n",
      "16 もの\n",
      "17 ごと\n",
      "18 の\n",
      "19 影響\n",
      "20 を\n",
      "21 受け\n",
      "22 て\n",
      "23 変動\n",
      "24 する\n",
      "25 。\n"
     ]
    }
   ],
   "source": [
    "for i,t in enumerate(tokens):\n",
    "    print(i,t)"
   ]
  },
  {
   "cell_type": "code",
   "execution_count": 45,
   "metadata": {},
   "outputs": [],
   "source": [
    "masked_index = [5,6]\n",
    "for m in masked_index:\n",
    "    tokens[m] = '[MASK]'\n",
    "#tokens[masked_index] = '[MASK]'\n",
    "tokens.insert(0,'[CLS]')\n",
    "tokens.append('[SEP]')"
   ]
  },
  {
   "cell_type": "code",
   "execution_count": 46,
   "metadata": {},
   "outputs": [
    {
     "name": "stdout",
     "output_type": "stream",
     "text": [
      "0 [CLS]\n",
      "1 株価\n",
      "2 は\n",
      "3 一般\n",
      "4 に\n",
      "5 、\n",
      "6 [MASK]\n",
      "7 [MASK]\n",
      "8 が\n",
      "9 開い\n",
      "10 て\n",
      "11 いる\n",
      "12 間\n",
      "13 は\n",
      "14 、\n",
      "15 様々\n",
      "16 な\n",
      "17 もの\n",
      "18 ごと\n",
      "19 の\n",
      "20 影響\n",
      "21 を\n",
      "22 受け\n",
      "23 て\n",
      "24 変動\n",
      "25 する\n",
      "26 。\n",
      "27 [SEP]\n"
     ]
    }
   ],
   "source": [
    "for i,t in enumerate(tokens):\n",
    "    print(i,t)"
   ]
  },
  {
   "cell_type": "code",
   "execution_count": 47,
   "metadata": {},
   "outputs": [
    {
     "name": "stdout",
     "output_type": "stream",
     "text": [
      "[2, 17059, 9, 654, 7, 6, 4, 4, 14, 5255, 16, 33, 284, 9, 6, 1400, 18, 120, 2079, 5, 881, 11, 346, 16, 7088, 34, 8, 3]\n"
     ]
    }
   ],
   "source": [
    "tokens_id = tokenizer.convert_tokens_to_ids(tokens)\n",
    "print(tokens_id)\n",
    "tokens_tensor = torch.tensor([tokens_id])"
   ]
  },
  {
   "cell_type": "code",
   "execution_count": 58,
   "metadata": {},
   "outputs": [],
   "source": [
    "model.eval()\n",
    "with torch.no_grad():\n",
    "    outputs = model(tokens_tensor)\n",
    "    predictions = outputs[0]"
   ]
  },
  {
   "cell_type": "code",
   "execution_count": 54,
   "metadata": {},
   "outputs": [],
   "source": [
    "t_scores = []\n",
    "t_words = []\n",
    "for m in masked_index:\n",
    "    t_scores, t_words = torch.topk(predictions[0, masked_index], k=10)\n",
    "    t_scores.append(_)\n",
    "    t_words.append(predicted_indexes)"
   ]
  },
  {
   "cell_type": "code",
   "execution_count": 61,
   "metadata": {},
   "outputs": [],
   "source": [
    "_, predicted_indexes = torch.topk(predictions[0, masked_index], k=5)"
   ]
  },
  {
   "cell_type": "code",
   "execution_count": 63,
   "metadata": {},
   "outputs": [
    {
     "name": "stdout",
     "output_type": "stream",
     "text": [
      "tensor([[    6,   758,    17,     9,    25],\n",
      "        [ 3279,  2304,  1114, 17059,    31]])\n"
     ]
    }
   ],
   "source": [
    "print(predicted_indexes)"
   ]
  },
  {
   "cell_type": "code",
   "execution_count": 71,
   "metadata": {},
   "outputs": [],
   "source": [
    "predicted_tokens = []\n",
    "for predicted_indexe in predicted_indexes:\n",
    "    predicted_tokens.append(tokenizer.convert_ids_to_tokens(predicted_indexe.tolist()))"
   ]
  },
  {
   "cell_type": "code",
   "execution_count": 72,
   "metadata": {},
   "outputs": [
    {
     "name": "stdout",
     "output_type": "stream",
     "text": [
      "[['、', '円', '1', 'は', '2'], ['取引', '市場', '株式', '株価', 'ある']]\n"
     ]
    }
   ],
   "source": [
    "print(predicted_tokens)"
   ]
  },
  {
   "cell_type": "code",
   "execution_count": null,
   "metadata": {},
   "outputs": [],
   "source": []
  }
 ],
 "metadata": {
  "kernelspec": {
   "display_name": "Python 3",
   "language": "python",
   "name": "python3"
  },
  "language_info": {
   "codemirror_mode": {
    "name": "ipython",
    "version": 3
   },
   "file_extension": ".py",
   "mimetype": "text/x-python",
   "name": "python",
   "nbconvert_exporter": "python",
   "pygments_lexer": "ipython3",
   "version": "3.7.6"
  }
 },
 "nbformat": 4,
 "nbformat_minor": 4
}
